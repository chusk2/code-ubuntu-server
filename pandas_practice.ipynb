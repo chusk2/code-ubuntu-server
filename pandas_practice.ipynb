{
 "cells": [
  {
   "cell_type": "code",
   "execution_count": null,
   "id": "c720df85",
   "metadata": {},
   "outputs": [],
   "source": []
  },
  {
   "cell_type": "code",
   "execution_count": 5,
   "id": "f10af7ac",
   "metadata": {},
   "outputs": [],
   "source": [
    "from faker import Faker\n",
    "faker = Faker()\n",
    "import pandas as pd\n",
    "import datetime as dt"
   ]
  },
  {
   "cell_type": "code",
   "execution_count": 71,
   "id": "8d0700eb",
   "metadata": {},
   "outputs": [],
   "source": [
    "df = pd.DataFrame([faker.profile() for _ in range(500)])"
   ]
  },
  {
   "cell_type": "code",
   "execution_count": 72,
   "id": "5afbe1b7",
   "metadata": {},
   "outputs": [
    {
     "data": {
      "text/plain": [
       "job                 string\n",
       "company             string\n",
       "ssn                 string\n",
       "residence           string\n",
       "current_location    object\n",
       "blood_group         string\n",
       "website             object\n",
       "username            string\n",
       "name                string\n",
       "sex                 string\n",
       "address             string\n",
       "mail                string\n",
       "birthdate           object\n",
       "dtype: object"
      ]
     },
     "execution_count": 72,
     "metadata": {},
     "output_type": "execute_result"
    }
   ],
   "source": [
    "df = df.convert_dtypes()\n",
    "df.dtypes"
   ]
  },
  {
   "cell_type": "code",
   "execution_count": 73,
   "id": "cf03bc23",
   "metadata": {},
   "outputs": [],
   "source": [
    "df['birthdate'] = pd.to_datetime(df['birthdate'])"
   ]
  },
  {
   "cell_type": "code",
   "execution_count": 74,
   "id": "d32c695e",
   "metadata": {
    "scrolled": true
   },
   "outputs": [
    {
     "data": {
      "text/plain": [
       "job                         string\n",
       "company                     string\n",
       "ssn                         string\n",
       "residence                   string\n",
       "current_location            object\n",
       "blood_group                 string\n",
       "website                     object\n",
       "username                    string\n",
       "name                        string\n",
       "sex                       category\n",
       "address                     string\n",
       "mail                        string\n",
       "birthdate           datetime64[ns]\n",
       "dtype: object"
      ]
     },
     "execution_count": 74,
     "metadata": {},
     "output_type": "execute_result"
    }
   ],
   "source": [
    "df['sex'] = df['sex'].astype('category')\n",
    "df.dtypes"
   ]
  },
  {
   "cell_type": "code",
   "execution_count": 75,
   "id": "6580f906",
   "metadata": {},
   "outputs": [],
   "source": [
    "df['blood_type'] = df['blood_group'].astype('category')"
   ]
  },
  {
   "cell_type": "code",
   "execution_count": 76,
   "id": "bbfd1322",
   "metadata": {},
   "outputs": [
    {
     "data": {
      "text/plain": [
       "0     (-11.7563585, 144.190888)\n",
       "1       (-10.3709825, 6.366219)\n",
       "2    (-80.4614325, -113.333897)\n",
       "Name: current_location, dtype: object"
      ]
     },
     "execution_count": 76,
     "metadata": {},
     "output_type": "execute_result"
    }
   ],
   "source": [
    "df['current_location'].head(3)"
   ]
  },
  {
   "cell_type": "code",
   "execution_count": 77,
   "id": "f49899d7",
   "metadata": {},
   "outputs": [],
   "source": [
    "f = lambda x: (f'{x[0]:.2f}',f'{x[1]:.2f}')\n",
    "df['current_location'] = df['current_location'].map(f)"
   ]
  },
  {
   "cell_type": "code",
   "execution_count": 78,
   "id": "6afb8176",
   "metadata": {},
   "outputs": [
    {
     "data": {
      "text/html": [
       "<div>\n",
       "<style scoped>\n",
       "    .dataframe tbody tr th:only-of-type {\n",
       "        vertical-align: middle;\n",
       "    }\n",
       "\n",
       "    .dataframe tbody tr th {\n",
       "        vertical-align: top;\n",
       "    }\n",
       "\n",
       "    .dataframe thead th {\n",
       "        text-align: right;\n",
       "    }\n",
       "</style>\n",
       "<table border=\"1\" class=\"dataframe\">\n",
       "  <thead>\n",
       "    <tr style=\"text-align: right;\">\n",
       "      <th></th>\n",
       "      <th>job</th>\n",
       "      <th>company</th>\n",
       "      <th>ssn</th>\n",
       "      <th>residence</th>\n",
       "      <th>current_location</th>\n",
       "      <th>blood_group</th>\n",
       "      <th>website</th>\n",
       "      <th>username</th>\n",
       "      <th>name</th>\n",
       "      <th>sex</th>\n",
       "      <th>address</th>\n",
       "      <th>mail</th>\n",
       "      <th>birthdate</th>\n",
       "      <th>blood_type</th>\n",
       "    </tr>\n",
       "  </thead>\n",
       "  <tbody>\n",
       "    <tr>\n",
       "      <th>0</th>\n",
       "      <td>Hospital pharmacist</td>\n",
       "      <td>Smith, Mckee and Brown</td>\n",
       "      <td>226-01-0477</td>\n",
       "      <td>056 Stout Lakes Suite 142\n",
       "Rhodesview, DE 92030</td>\n",
       "      <td>(-11.76, 144.19)</td>\n",
       "      <td>B-</td>\n",
       "      <td>[https://gay-padilla.net/, http://www.johns.in...</td>\n",
       "      <td>amandafields</td>\n",
       "      <td>Andre Davis</td>\n",
       "      <td>M</td>\n",
       "      <td>784 Diana Parks\n",
       "Lake Matthewport, IA 28184</td>\n",
       "      <td>anna30@yahoo.com</td>\n",
       "      <td>1966-11-12</td>\n",
       "      <td>B-</td>\n",
       "    </tr>\n",
       "    <tr>\n",
       "      <th>1</th>\n",
       "      <td>Purchasing manager</td>\n",
       "      <td>Brown, Good and Davidson</td>\n",
       "      <td>743-13-8876</td>\n",
       "      <td>662 Rowe Valleys Apt. 952\n",
       "Pottsport, LA 93452</td>\n",
       "      <td>(-10.37, 6.37)</td>\n",
       "      <td>B-</td>\n",
       "      <td>[http://www.weaver-ramirez.info/, https://barn...</td>\n",
       "      <td>valerie16</td>\n",
       "      <td>Donald Boyd</td>\n",
       "      <td>M</td>\n",
       "      <td>72247 Daniel Vista Apt. 452\n",
       "Santosmouth, GA 94137</td>\n",
       "      <td>joshuarivera@gmail.com</td>\n",
       "      <td>1972-12-16</td>\n",
       "      <td>B-</td>\n",
       "    </tr>\n",
       "    <tr>\n",
       "      <th>2</th>\n",
       "      <td>Research scientist (medical)</td>\n",
       "      <td>Morrison Group</td>\n",
       "      <td>391-45-6091</td>\n",
       "      <td>12671 Eric Dam\n",
       "Troytown, IN 71830</td>\n",
       "      <td>(-80.46, -113.33)</td>\n",
       "      <td>A-</td>\n",
       "      <td>[https://hendricks-tran.com/, https://howe.org/]</td>\n",
       "      <td>tstout</td>\n",
       "      <td>Deborah Delacruz</td>\n",
       "      <td>F</td>\n",
       "      <td>USS Long\n",
       "FPO AP 98676</td>\n",
       "      <td>christopher80@hotmail.com</td>\n",
       "      <td>1986-09-18</td>\n",
       "      <td>A-</td>\n",
       "    </tr>\n",
       "    <tr>\n",
       "      <th>3</th>\n",
       "      <td>Probation officer</td>\n",
       "      <td>Richards and Sons</td>\n",
       "      <td>394-16-7860</td>\n",
       "      <td>18417 Todd Shoal\n",
       "Port Josebury, MN 14909</td>\n",
       "      <td>(-47.73, -63.06)</td>\n",
       "      <td>A+</td>\n",
       "      <td>[https://www.weber-torres.com/, http://king.co...</td>\n",
       "      <td>nicolefrazier</td>\n",
       "      <td>Michael Gillespie</td>\n",
       "      <td>M</td>\n",
       "      <td>65774 Shaw Brooks Apt. 742\n",
       "Robertfort, CT 34913</td>\n",
       "      <td>matthew77@hotmail.com</td>\n",
       "      <td>1969-04-14</td>\n",
       "      <td>A+</td>\n",
       "    </tr>\n",
       "    <tr>\n",
       "      <th>4</th>\n",
       "      <td>Field trials officer</td>\n",
       "      <td>Cook Inc</td>\n",
       "      <td>552-82-5481</td>\n",
       "      <td>7033 April Spurs Apt. 003\n",
       "Ginaberg, MI 89673</td>\n",
       "      <td>(68.84, -26.63)</td>\n",
       "      <td>AB+</td>\n",
       "      <td>[https://nunez-reyes.com/]</td>\n",
       "      <td>jeremyowens</td>\n",
       "      <td>Carla Singh</td>\n",
       "      <td>F</td>\n",
       "      <td>07569 Boone Throughway\n",
       "Ericaside, NE 74243</td>\n",
       "      <td>powerssean@gmail.com</td>\n",
       "      <td>2002-05-18</td>\n",
       "      <td>AB+</td>\n",
       "    </tr>\n",
       "  </tbody>\n",
       "</table>\n",
       "</div>"
      ],
      "text/plain": [
       "                            job                   company          ssn  \\\n",
       "0           Hospital pharmacist    Smith, Mckee and Brown  226-01-0477   \n",
       "1            Purchasing manager  Brown, Good and Davidson  743-13-8876   \n",
       "2  Research scientist (medical)            Morrison Group  391-45-6091   \n",
       "3             Probation officer         Richards and Sons  394-16-7860   \n",
       "4          Field trials officer                  Cook Inc  552-82-5481   \n",
       "\n",
       "                                        residence   current_location  \\\n",
       "0  056 Stout Lakes Suite 142\n",
       "Rhodesview, DE 92030   (-11.76, 144.19)   \n",
       "1   662 Rowe Valleys Apt. 952\n",
       "Pottsport, LA 93452     (-10.37, 6.37)   \n",
       "2               12671 Eric Dam\n",
       "Troytown, IN 71830  (-80.46, -113.33)   \n",
       "3        18417 Todd Shoal\n",
       "Port Josebury, MN 14909   (-47.73, -63.06)   \n",
       "4    7033 April Spurs Apt. 003\n",
       "Ginaberg, MI 89673    (68.84, -26.63)   \n",
       "\n",
       "  blood_group                                            website  \\\n",
       "0          B-  [https://gay-padilla.net/, http://www.johns.in...   \n",
       "1          B-  [http://www.weaver-ramirez.info/, https://barn...   \n",
       "2          A-   [https://hendricks-tran.com/, https://howe.org/]   \n",
       "3          A+  [https://www.weber-torres.com/, http://king.co...   \n",
       "4         AB+                         [https://nunez-reyes.com/]   \n",
       "\n",
       "        username               name sex  \\\n",
       "0   amandafields        Andre Davis   M   \n",
       "1      valerie16        Donald Boyd   M   \n",
       "2         tstout   Deborah Delacruz   F   \n",
       "3  nicolefrazier  Michael Gillespie   M   \n",
       "4    jeremyowens        Carla Singh   F   \n",
       "\n",
       "                                             address  \\\n",
       "0         784 Diana Parks\n",
       "Lake Matthewport, IA 28184   \n",
       "1  72247 Daniel Vista Apt. 452\n",
       "Santosmouth, GA 94137   \n",
       "2                              USS Long\n",
       "FPO AP 98676   \n",
       "3    65774 Shaw Brooks Apt. 742\n",
       "Robertfort, CT 34913   \n",
       "4         07569 Boone Throughway\n",
       "Ericaside, NE 74243   \n",
       "\n",
       "                        mail  birthdate blood_type  \n",
       "0           anna30@yahoo.com 1966-11-12         B-  \n",
       "1     joshuarivera@gmail.com 1972-12-16         B-  \n",
       "2  christopher80@hotmail.com 1986-09-18         A-  \n",
       "3      matthew77@hotmail.com 1969-04-14         A+  \n",
       "4       powerssean@gmail.com 2002-05-18        AB+  "
      ]
     },
     "execution_count": 78,
     "metadata": {},
     "output_type": "execute_result"
    }
   ],
   "source": [
    "df.head()"
   ]
  },
  {
   "cell_type": "code",
   "execution_count": 79,
   "id": "5f03b4a3",
   "metadata": {},
   "outputs": [
    {
     "data": {
      "text/plain": [
       "job                         string\n",
       "company                     string\n",
       "ssn                         string\n",
       "residence                   string\n",
       "current_location            object\n",
       "blood_group                 string\n",
       "website                     object\n",
       "username                    string\n",
       "name                        string\n",
       "sex                       category\n",
       "address                     string\n",
       "mail                        string\n",
       "birthdate           datetime64[ns]\n",
       "blood_type                category\n",
       "dtype: object"
      ]
     },
     "execution_count": 79,
     "metadata": {},
     "output_type": "execute_result"
    }
   ],
   "source": [
    "df.dtypes"
   ]
  },
  {
   "cell_type": "code",
   "execution_count": 80,
   "id": "f85d8f87",
   "metadata": {},
   "outputs": [],
   "source": [
    "df['blood_group'] = df['blood_type']\n",
    "df.drop('blood_type', axis=1, inplace=True)"
   ]
  },
  {
   "cell_type": "code",
   "execution_count": 81,
   "id": "78d388b9",
   "metadata": {},
   "outputs": [
    {
     "data": {
      "text/plain": [
       "Index(['job', 'company', 'ssn', 'residence', 'current_location', 'blood_group',\n",
       "       'website', 'username', 'name', 'sex', 'address', 'mail', 'birthdate'],\n",
       "      dtype='object')"
      ]
     },
     "execution_count": 81,
     "metadata": {},
     "output_type": "execute_result"
    }
   ],
   "source": [
    "df.columns"
   ]
  },
  {
   "cell_type": "code",
   "execution_count": 82,
   "id": "d62e77b5",
   "metadata": {},
   "outputs": [
    {
     "data": {
      "text/plain": [
       "B+     79\n",
       "AB+    67\n",
       "B-     62\n",
       "A-     61\n",
       "O-     61\n",
       "AB-    59\n",
       "O+     59\n",
       "A+     52\n",
       "Name: blood_group, dtype: int64"
      ]
     },
     "execution_count": 82,
     "metadata": {},
     "output_type": "execute_result"
    }
   ],
   "source": [
    "groups = df['blood_group'].value_counts()\n",
    "groups"
   ]
  },
  {
   "cell_type": "code",
   "execution_count": 94,
   "id": "fb00d6c1",
   "metadata": {},
   "outputs": [
    {
     "name": "stdout",
     "output_type": "stream",
     "text": [
      "Only 12.2 % are universal blood donors.\n"
     ]
    }
   ],
   "source": [
    "universal_donors_count = groups['O-']\n",
    "groups\n",
    "print(f'Only \\\n",
    "{universal_donors_count/groups.sum()*100}\\\n",
    " % are universal blood donors.')"
   ]
  }
 ],
 "metadata": {
  "kernelspec": {
   "display_name": "Python 3 (ipykernel)",
   "language": "python",
   "name": "python3"
  },
  "language_info": {
   "codemirror_mode": {
    "name": "ipython",
    "version": 3
   },
   "file_extension": ".py",
   "mimetype": "text/x-python",
   "name": "python",
   "nbconvert_exporter": "python",
   "pygments_lexer": "ipython3",
   "version": "3.8.10"
  }
 },
 "nbformat": 4,
 "nbformat_minor": 5
}
