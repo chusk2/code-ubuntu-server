{
 "cells": [
  {
   "cell_type": "code",
   "execution_count": 53,
   "id": "d387e653",
   "metadata": {},
   "outputs": [],
   "source": [
    "import numpy as np\n",
    "import matplotlib.pyplot as plt"
   ]
  },
  {
   "cell_type": "code",
   "execution_count": 24,
   "id": "3d9aaac2",
   "metadata": {},
   "outputs": [],
   "source": [
    "walk = np.random.randint(-1,2,100)\n",
    "walk = np.where(walk<=0,-1,+1)"
   ]
  },
  {
   "cell_type": "code",
   "execution_count": 25,
   "id": "c15e0f30",
   "metadata": {
    "scrolled": true
   },
   "outputs": [
    {
     "data": {
      "text/plain": [
       "[<matplotlib.lines.Line2D at 0x7fb341c94550>]"
      ]
     },
     "execution_count": 25,
     "metadata": {},
     "output_type": "execute_result"
    },
    {
     "data": {
      "image/png": "[encoded data removed]",
      "text/plain": [
       "<Figure size 432x288 with 1 Axes>"
      ]
     },
     "metadata": {
      "needs_background": "light"
     },
     "output_type": "display_data"
    }
   ],
   "source": [
    "plt.plot(walk.cumsum())"
   ]
  },
  {
   "cell_type": "code",
   "execution_count": 65,
   "id": "e9eabb4a",
   "metadata": {},
   "outputs": [
    {
     "data": {
      "text/plain": [
       "array([[ 1.18253412, -0.19687773,  0.46098192, -1.39736229],\n",
       "       [ 1.62094444, -0.27050469, -0.71092312, -0.74303307],\n",
       "       [ 0.74764394,  0.08245488,  0.01404898, -0.72337045],\n",
       "       [ 0.88597391,  0.33070904, -1.28874893,  0.19450441],\n",
       "       [-0.79856777,  2.03201458,  0.813558  ,  0.08228587]])"
      ]
     },
     "execution_count": 65,
     "metadata": {},
     "output_type": "execute_result"
    }
   ],
   "source": [
    "a = np.random.randn(5,4)\n",
    "a"
   ]
  },
  {
   "cell_type": "code",
   "execution_count": 71,
   "id": "f60ddaca",
   "metadata": {},
   "outputs": [
    {
     "data": {
      "text/plain": [
       "{'Col. 1': array([ 1.18253412, -0.19687773,  0.46098192, -1.39736229]),\n",
       " 'Col. 2': array([ 1.62094444, -0.27050469, -0.71092312, -0.74303307]),\n",
       " 'Col. 3': array([ 0.74764394,  0.08245488,  0.01404898, -0.72337045]),\n",
       " 'Col. 4': array([ 0.88597391,  0.33070904, -1.28874893,  0.19450441])}"
      ]
     },
     "execution_count": 71,
     "metadata": {},
     "output_type": "execute_result"
    }
   ],
   "source": [
    "dic = {f'Col. {i+1}':a[i,:] for i in range(a.shape[0]-1)}\n",
    "dic"
   ]
  },
  {
   "cell_type": "code",
   "execution_count": 72,
   "id": "a93d23bb",
   "metadata": {},
   "outputs": [],
   "source": [
    "import pandas as pd"
   ]
  },
  {
   "cell_type": "code",
   "execution_count": 73,
   "id": "f0c84f06",
   "metadata": {},
   "outputs": [
    {
     "data": {
      "text/html": [
       "<div>\n",
       "<style scoped>\n",
       "    .dataframe tbody tr th:only-of-type {\n",
       "        vertical-align: middle;\n",
       "    }\n",
       "\n",
       "    .dataframe tbody tr th {\n",
       "        vertical-align: top;\n",
       "    }\n",
       "\n",
       "    .dataframe thead th {\n",
       "        text-align: right;\n",
       "    }\n",
       "</style>\n",
       "<table border=\"1\" class=\"dataframe\">\n",
       "  <thead>\n",
       "    <tr style=\"text-align: right;\">\n",
       "      <th></th>\n",
       "      <th>Col. 1</th>\n",
       "      <th>Col. 2</th>\n",
       "      <th>Col. 3</th>\n",
       "      <th>Col. 4</th>\n",
       "    </tr>\n",
       "  </thead>\n",
       "  <tbody>\n",
       "    <tr>\n",
       "      <th>0</th>\n",
       "      <td>1.182534</td>\n",
       "      <td>1.620944</td>\n",
       "      <td>0.747644</td>\n",
       "      <td>0.885974</td>\n",
       "    </tr>\n",
       "    <tr>\n",
       "      <th>1</th>\n",
       "      <td>-0.196878</td>\n",
       "      <td>-0.270505</td>\n",
       "      <td>0.082455</td>\n",
       "      <td>0.330709</td>\n",
       "    </tr>\n",
       "    <tr>\n",
       "      <th>2</th>\n",
       "      <td>0.460982</td>\n",
       "      <td>-0.710923</td>\n",
       "      <td>0.014049</td>\n",
       "      <td>-1.288749</td>\n",
       "    </tr>\n",
       "    <tr>\n",
       "      <th>3</th>\n",
       "      <td>-1.397362</td>\n",
       "      <td>-0.743033</td>\n",
       "      <td>-0.723370</td>\n",
       "      <td>0.194504</td>\n",
       "    </tr>\n",
       "  </tbody>\n",
       "</table>\n",
       "</div>"
      ],
      "text/plain": [
       "     Col. 1    Col. 2    Col. 3    Col. 4\n",
       "0  1.182534  1.620944  0.747644  0.885974\n",
       "1 -0.196878 -0.270505  0.082455  0.330709\n",
       "2  0.460982 -0.710923  0.014049 -1.288749\n",
       "3 -1.397362 -0.743033 -0.723370  0.194504"
      ]
     },
     "execution_count": 73,
     "metadata": {},
     "output_type": "execute_result"
    }
   ],
   "source": [
    "df = pd.DataFrame(dic)\n",
    "df"
   ]
  },
  {
   "cell_type": "code",
   "execution_count": 4,
   "id": "7784679c",
   "metadata": {},
   "outputs": [],
   "source": [
    "x = np.linspace(-2*np.pi,2*np.pi,200)\n",
    "y = np.sin(x)"
   ]
  },
  {
   "cell_type": "code",
   "execution_count": 5,
   "id": "a0342a62",
   "metadata": {},
   "outputs": [
    {
     "data": {
      "text/plain": [
       "Text(0, 0.5, 'sin(x)')"
      ]
     },
     "execution_count": 5,
     "metadata": {},
     "output_type": "execute_result"
    },
    {
     "data": {
      "image/png": "[encoded data removed]",
      "text/plain": [
       "<Figure size 432x288 with 1 Axes>"
      ]
     },
     "metadata": {
      "needs_background": "light"
     },
     "output_type": "display_data"
    }
   ],
   "source": [
    "plt.plot(x,y)\n",
    "plt.plot(x[::4],np.sin(x[::4]), 'g*')\n",
    "plt.axvline(x=0,color='k')\n",
    "plt.axhline(y=0, color='k')\n",
    "plt.title('sin(x)')\n",
    "plt.xlabel('x')\n",
    "plt.ylabel('sin(x)')\n",
    "#plt.ticklabels(np.linspace(-1,1,5))"
   ]
  },
  {
   "cell_type": "code",
   "execution_count": 7,
   "id": "dede3693",
   "metadata": {},
   "outputs": [
    {
     "data": {
      "text/plain": [
       "array([ 2, 14, 34, 62])"
      ]
     },
     "execution_count": 7,
     "metadata": {},
     "output_type": "execute_result"
    }
   ],
   "source": [
    "np.array([i**2-2 for i in range(2,10,2)])"
   ]
  },
  {
   "cell_type": "code",
   "execution_count": 8,
   "id": "78289a14",
   "metadata": {},
   "outputs": [
    {
     "data": {
      "text/plain": [
       "array([[0., 0., 0.],\n",
       "       [0., 0., 0.]])"
      ]
     },
     "execution_count": 8,
     "metadata": {},
     "output_type": "execute_result"
    }
   ],
   "source": [
    "np.zeros((2,3))"
   ]
  },
  {
   "cell_type": "markdown",
   "id": "56bf8dae",
   "metadata": {},
   "source": [
    "array identity must be squared"
   ]
  },
  {
   "cell_type": "code",
   "execution_count": 10,
   "id": "5d1ed8d2",
   "metadata": {},
   "outputs": [
    {
     "ename": "TypeError",
     "evalue": "'tuple' object cannot be interpreted as an integer",
     "output_type": "error",
     "traceback": [
      "\u001b[0;31m---------------------------------------------------------------------------\u001b[0m",
      "\u001b[0;31mTypeError\u001b[0m                                 Traceback (most recent call last)",
      "Input \u001b[0;32mIn [10]\u001b[0m, in \u001b[0;36m<cell line: 1>\u001b[0;34m()\u001b[0m\n\u001b[0;32m----> 1\u001b[0m \u001b[43mnp\u001b[49m\u001b[38;5;241;43m.\u001b[39;49m\u001b[43meye\u001b[49m\u001b[43m(\u001b[49m\u001b[43m(\u001b[49m\u001b[38;5;241;43m2\u001b[39;49m\u001b[43m,\u001b[49m\u001b[38;5;241;43m3\u001b[39;49m\u001b[43m)\u001b[49m\u001b[43m)\u001b[49m\n",
      "File \u001b[0;32m/usr/local/lib/python3.8/dist-packages/numpy/lib/twodim_base.py:214\u001b[0m, in \u001b[0;36meye\u001b[0;34m(N, M, k, dtype, order, like)\u001b[0m\n\u001b[1;32m    212\u001b[0m \u001b[38;5;28;01mif\u001b[39;00m M \u001b[38;5;129;01mis\u001b[39;00m \u001b[38;5;28;01mNone\u001b[39;00m:\n\u001b[1;32m    213\u001b[0m     M \u001b[38;5;241m=\u001b[39m N\n\u001b[0;32m--> 214\u001b[0m m \u001b[38;5;241m=\u001b[39m \u001b[43mzeros\u001b[49m\u001b[43m(\u001b[49m\u001b[43m(\u001b[49m\u001b[43mN\u001b[49m\u001b[43m,\u001b[49m\u001b[43m \u001b[49m\u001b[43mM\u001b[49m\u001b[43m)\u001b[49m\u001b[43m,\u001b[49m\u001b[43m \u001b[49m\u001b[43mdtype\u001b[49m\u001b[38;5;241;43m=\u001b[39;49m\u001b[43mdtype\u001b[49m\u001b[43m,\u001b[49m\u001b[43m \u001b[49m\u001b[43morder\u001b[49m\u001b[38;5;241;43m=\u001b[39;49m\u001b[43morder\u001b[49m\u001b[43m)\u001b[49m\n\u001b[1;32m    215\u001b[0m \u001b[38;5;28;01mif\u001b[39;00m k \u001b[38;5;241m>\u001b[39m\u001b[38;5;241m=\u001b[39m M:\n\u001b[1;32m    216\u001b[0m     \u001b[38;5;28;01mreturn\u001b[39;00m m\n",
      "\u001b[0;31mTypeError\u001b[0m: 'tuple' object cannot be interpreted as an integer"
     ]
    }
   ],
   "source": [
    "np.eye((2,3))"
   ]
  },
  {
   "cell_type": "code",
   "execution_count": 11,
   "id": "26c45593",
   "metadata": {},
   "outputs": [
    {
     "data": {
      "text/plain": [
       "array([[1., 0., 0., 0.],\n",
       "       [0., 1., 0., 0.],\n",
       "       [0., 0., 1., 0.],\n",
       "       [0., 0., 0., 1.]])"
      ]
     },
     "execution_count": 11,
     "metadata": {},
     "output_type": "execute_result"
    }
   ],
   "source": [
    "np.eye(4)"
   ]
  },
  {
   "cell_type": "code",
   "execution_count": 12,
   "id": "da1805d7",
   "metadata": {},
   "outputs": [
    {
     "name": "stdout",
     "output_type": "stream",
     "text": [
      "(2, 4)\n"
     ]
    },
    {
     "data": {
      "text/plain": [
       "array([[1., 1., 1., 1.],\n",
       "       [1., 1., 1., 1.]])"
      ]
     },
     "execution_count": 12,
     "metadata": {},
     "output_type": "execute_result"
    }
   ],
   "source": [
    "a = np.zeros((2,4))\n",
    "print(a.shape)\n",
    "np.ones_like(a)"
   ]
  },
  {
   "cell_type": "code",
   "execution_count": 16,
   "id": "59eba0cd",
   "metadata": {},
   "outputs": [
    {
     "data": {
      "text/plain": [
       "array([[3.5, 3.5, 3.5],\n",
       "       [3.5, 3.5, 3.5]])"
      ]
     },
     "execution_count": 16,
     "metadata": {},
     "output_type": "execute_result"
    }
   ],
   "source": [
    "# array filled with element 3.5\n",
    "np.full((2,3), fill_value=3.5)"
   ]
  },
  {
   "cell_type": "markdown",
   "id": "0bd9296e",
   "metadata": {},
   "source": [
    "### Defining n-dimensional arrays"
   ]
  },
  {
   "cell_type": "code",
   "execution_count": 24,
   "id": "9e0c1c56",
   "metadata": {},
   "outputs": [
    {
     "data": {
      "text/plain": [
       "array([[[ 3,  4,  1],\n",
       "        [-4,  0, -4]],\n",
       "\n",
       "       [[20, 12, -2],\n",
       "        [ 5, -4, 13]]])"
      ]
     },
     "execution_count": 24,
     "metadata": {},
     "output_type": "execute_result"
    }
   ],
   "source": [
    "from random import randint\n",
    "lst1 = [randint(-4,4) for i in range(6)]\n",
    "lst2 = [randint(-10,20) for j in range(6)]\n",
    "# .reshape method returns None, so must\n",
    "# be stored in a var and then print the var\n",
    "arr = np.array([lst1,lst2]).reshape(2,2,3)\n",
    "arr"
   ]
  },
  {
   "cell_type": "code",
   "execution_count": 5,
   "id": "ea99833b",
   "metadata": {},
   "outputs": [
    {
     "data": {
      "text/plain": [
       "dtype('int64')"
      ]
     },
     "execution_count": 5,
     "metadata": {},
     "output_type": "execute_result"
    }
   ],
   "source": [
    "arr = np.array([3,5,8,4,9])\n",
    "arr.dtype"
   ]
  },
  {
   "cell_type": "code",
   "execution_count": null,
   "id": "9f4290d2",
   "metadata": {},
   "outputs": [],
   "source": [
    "arr.astype('float')# method ndarray object"
   ]
  },
  {
   "cell_type": "code",
   "execution_count": 21,
   "id": "84763ad5",
   "metadata": {},
   "outputs": [],
   "source": [
    "arr = np.array(['2.35','3.45','2.34'])"
   ]
  },
  {
   "cell_type": "code",
   "execution_count": 24,
   "id": "1b49f0df",
   "metadata": {
    "scrolled": true
   },
   "outputs": [
    {
     "name": "stdout",
     "output_type": "stream",
     "text": [
      "[2.35 3.45 2.34]\n"
     ]
    },
    {
     "data": {
      "text/plain": [
       "dtype('float64')"
      ]
     },
     "execution_count": 24,
     "metadata": {},
     "output_type": "execute_result"
    }
   ],
   "source": [
    "# convert to flota data\n",
    "arr = arr.astype('float')\n",
    "print(arr)\n",
    "arr.dtype"
   ]
  },
  {
   "cell_type": "markdown",
   "id": "e0812ded",
   "metadata": {},
   "source": [
    "use other array dtype as .astype() argument"
   ]
  },
  {
   "cell_type": "code",
   "execution_count": 32,
   "id": "0521728a",
   "metadata": {},
   "outputs": [
    {
     "name": "stdout",
     "output_type": "stream",
     "text": [
      "5.0, 5.5, 6.0, 6.5, 7.0, 7.5, 8.0, 8.5, 9.0, 9.5, 10.0\n"
     ]
    },
    {
     "data": {
      "text/plain": [
       "dtype('float64')"
      ]
     },
     "execution_count": 32,
     "metadata": {},
     "output_type": "execute_result"
    }
   ],
   "source": [
    "a = np.arange(5,10.5,.5)\n",
    "print(*a, sep=', ')\n",
    "a.dtype"
   ]
  },
  {
   "cell_type": "code",
   "execution_count": 37,
   "id": "eb7c5100",
   "metadata": {},
   "outputs": [
    {
     "name": "stdout",
     "output_type": "stream",
     "text": [
      "5, 5.5, 6, 6.5, 7, 7.5, 8, 8.5, 9, 9.5, 10\n"
     ]
    },
    {
     "data": {
      "text/plain": [
       "dtype('float64')"
      ]
     },
     "execution_count": 37,
     "metadata": {},
     "output_type": "execute_result"
    }
   ],
   "source": [
    "a = np.arange(5,10.5,.5)\n",
    "lst = [int(i) if i.is_integer() else i\n",
    "       for i in a]\n",
    "print(*lst, sep=', ')\n",
    "a.dtype"
   ]
  },
  {
   "cell_type": "code",
   "execution_count": 28,
   "id": "ce6291d5",
   "metadata": {},
   "outputs": [
    {
     "name": "stdout",
     "output_type": "stream",
     "text": [
      "[9 9 9 6 8]\n",
      "New dtype: [9. 9. 9. 6. 8.]\n"
     ]
    },
    {
     "data": {
      "text/plain": [
       "dtype('float64')"
      ]
     },
     "execution_count": 28,
     "metadata": {},
     "output_type": "execute_result"
    }
   ],
   "source": [
    "b = np.random.randint(5,10,5)\n",
    "print(b)\n",
    "b = b.astype(a.dtype)\n",
    "print(f'New dtype: {b}')\n",
    "b.dtype"
   ]
  },
  {
   "cell_type": "markdown",
   "id": "f535c524",
   "metadata": {},
   "source": [
    "operations between arrays are done elementwise"
   ]
  },
  {
   "cell_type": "code",
   "execution_count": 40,
   "id": "ee483cc1",
   "metadata": {
    "scrolled": true
   },
   "outputs": [
    {
     "name": "stdout",
     "output_type": "stream",
     "text": [
      "[2 2 7 4 7 1]\n",
      "[1 4 2 5 1 5]\n",
      "a*b\n",
      "[ 2  8 14 20  7  5]\n"
     ]
    }
   ],
   "source": [
    "a = np.random.randint(1,8,6)\n",
    "b = np.random.randint(1,8,6)\n",
    "print(a,b, sep='\\n')\n",
    "print('a*b')\n",
    "print(a*b)"
   ]
  },
  {
   "cell_type": "code",
   "execution_count": 2,
   "id": "8f834803",
   "metadata": {},
   "outputs": [
    {
     "name": "stdout",
     "output_type": "stream",
     "text": [
      "[ 1  2  3  4  5  6  7  8  9 10]\n"
     ]
    },
    {
     "data": {
      "text/plain": [
       "array([4, 5, 6, 7])"
      ]
     },
     "execution_count": 2,
     "metadata": {},
     "output_type": "execute_result"
    }
   ],
   "source": [
    "#slicing\n",
    "a = np.arange(1,11)\n",
    "print(a)\n",
    "a[3:7]"
   ]
  },
  {
   "cell_type": "code",
   "execution_count": 4,
   "id": "7b31f0ac",
   "metadata": {},
   "outputs": [
    {
     "data": {
      "text/plain": [
       "array([  1,   2,   3, 500, 500, 500, 500,   8,   9,  10])"
      ]
     },
     "execution_count": 4,
     "metadata": {},
     "output_type": "execute_result"
    }
   ],
   "source": [
    "# assign an unique value to a slice of an array\n",
    "a[3:7] = 500\n",
    "a"
   ]
  },
  {
   "cell_type": "code",
   "execution_count": 16,
   "id": "b2644dbd",
   "metadata": {},
   "outputs": [
    {
     "data": {
      "text/plain": [
       "array([[-9, -9,  8, -8],\n",
       "       [ 5,  4,  1, -9],\n",
       "       [-1, -3,  1,  5],\n",
       "       [-9, -1,  0, -6]])"
      ]
     },
     "execution_count": 16,
     "metadata": {},
     "output_type": "execute_result"
    }
   ],
   "source": [
    "# create a lisf of 4 random arrays\n",
    "# to feed 4th dimensional array\n",
    "lst = [np.random.randint(-10,10,4) for i in range(4)]\n",
    "a = np.array([*lst])\n",
    "a"
   ]
  },
  {
   "cell_type": "code",
   "execution_count": 17,
   "id": "d954dd67",
   "metadata": {},
   "outputs": [
    {
     "data": {
      "text/plain": [
       "array([-1, -3,  1,  5])"
      ]
     },
     "execution_count": 17,
     "metadata": {},
     "output_type": "execute_result"
    }
   ],
   "source": [
    "# index for n x m arrays are used;to point at rows\n",
    "a[2]"
   ]
  },
  {
   "cell_type": "code",
   "execution_count": 23,
   "id": "3ab7e44a",
   "metadata": {},
   "outputs": [
    {
     "data": {
      "text/plain": [
       "array([[[ -1,  -6],\n",
       "        [  3,   1],\n",
       "        [  2,  -1]],\n",
       "\n",
       "       [[  7,  -5],\n",
       "        [ -5,  -4],\n",
       "        [-10,   8]],\n",
       "\n",
       "       [[ -2,  -6],\n",
       "        [ -7,  -2],\n",
       "        [ -7,   3]],\n",
       "\n",
       "       [[-10,  -4],\n",
       "        [  6,  -5],\n",
       "        [  6,  -5]]])"
      ]
     },
     "execution_count": 23,
     "metadata": {},
     "output_type": "execute_result"
    }
   ],
   "source": [
    "def rnd_ndarray(n,m, min=-10, max= 10):\n",
    "    \"\"\"Returns a list of n arrays of m random\n",
    "    integers ranging from min to max\"\"\"\n",
    "    lst = []\n",
    "    for i in range(n):\n",
    "        lst.append(np.random.randint(min,max,m))\n",
    "    return lst\n",
    "\n",
    "\n",
    "# create 4th dimensional matrix of 3x2 arrays\n",
    "multi = np.array([ rnd_ndarray(3,2) for i in range(4)])\n",
    "multi"
   ]
  },
  {
   "cell_type": "code",
   "execution_count": 24,
   "id": "87bcc617",
   "metadata": {},
   "outputs": [
    {
     "data": {
      "text/plain": [
       "array([[-2, -6],\n",
       "       [-7, -2],\n",
       "       [-7,  3]])"
      ]
     },
     "execution_count": 24,
     "metadata": {},
     "output_type": "execute_result"
    }
   ],
   "source": [
    "# indexes of multi dimensional matrixes are\n",
    "# levels within the matrix\n",
    "multi[2]"
   ]
  },
  {
   "cell_type": "markdown",
   "id": "2acc9fef",
   "metadata": {},
   "source": [
    "slicing multi dimensional matrix: matrix[level, row, col]"
   ]
  },
  {
   "cell_type": "code",
   "execution_count": 28,
   "id": "4651b86d",
   "metadata": {},
   "outputs": [
    {
     "name": "stdout",
     "output_type": "stream",
     "text": [
      "2nd array:\n",
      "\n",
      "[[-2 -6]\n",
      " [-7 -2]\n",
      " [-7  3]]\n",
      "\n",
      "3rd row of array:\n",
      "[-7  3]\n",
      "\n",
      "1st element of 3rd row of 2nd array: -7\n"
     ]
    }
   ],
   "source": [
    "print('2nd array:\\n')\n",
    "print(multi[2])\n",
    "print('\\n3rd row of array:')\n",
    "print(multi[2,2])\n",
    "print('\\n1st element of 3rd row of 2nd array: ', end='')\n",
    "print(multi[2,2,0])\n"
   ]
  },
  {
   "cell_type": "code",
   "execution_count": 46,
   "id": "2d523d97",
   "metadata": {},
   "outputs": [
    {
     "name": "stdout",
     "output_type": "stream",
     "text": [
      "Reassigning elements from 2nd row ( [3 1] ) in 1st array:\n",
      "Original matrix:\n",
      "[[-1 -6]\n",
      " [ 3  1]\n",
      " [ 2 -1]]\n",
      "Copy, after reassignment:\n",
      "[[  -1   -6]\n",
      " [5000 5000]\n",
      " [   2   -1]]\n"
     ]
    }
   ],
   "source": [
    "multi2 = multi.copy()\n",
    "print(f'Reassigning elements from 2nd row ( {multi[0,1]} ) '\n",
    "      'in 1st array:')\n",
    "# reassignment of row in the copy\n",
    "multi2[0,1] = 5000\n",
    "print(f'Original matrix:\\n{multi[0]}')\n",
    "print(f'Copy, after reassignment:\\n{multi2[0]}')"
   ]
  },
  {
   "cell_type": "markdown",
   "id": "53daa431",
   "metadata": {},
   "source": [
    "#### Note: in the use of np.random.randn(), the argument of this method is the array dimension (1D) , as random values range from $-4\\sigma$ to $4\\sigma$, like in a standard normal distribution"
   ]
  },
  {
   "cell_type": "code",
   "execution_count": 52,
   "id": "5cce8533",
   "metadata": {},
   "outputs": [
    {
     "name": "stdout",
     "output_type": "stream",
     "text": [
      "[ 1.74655305 -1.20480819 -0.81573296 -1.80931638 -1.70686094  1.15044791]\n",
      "[[-0.23012871  1.73016941 -1.77765671]\n",
      " [ 0.47308498 -1.82428497 -0.26802743]]\n"
     ]
    }
   ],
   "source": [
    "print(np.random.randn(6))\n",
    "print(np.random.randn(6).reshape(2,3))"
   ]
  },
  {
   "cell_type": "code",
   "execution_count": null,
   "id": "1ea6ded5",
   "metadata": {},
   "outputs": [],
   "source": []
  }
 ],
 "metadata": {
  "kernelspec": {
   "display_name": "Python 3 (ipykernel)",
   "language": "python",
   "name": "python3"
  },
  "language_info": {
   "codemirror_mode": {
    "name": "ipython",
    "version": 3
   },
   "file_extension": ".py",
   "mimetype": "text/x-python",
   "name": "python",
   "nbconvert_exporter": "python",
   "pygments_lexer": "ipython3",
   "version": "3.8.10"
  }
 },
 "nbformat": 4,
 "nbformat_minor": 5
}
